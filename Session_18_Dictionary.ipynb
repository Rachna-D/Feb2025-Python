{
 "cells": [
  {
   "cell_type": "code",
   "execution_count": 8,
   "id": "bcff92e6-fdf9-4888-901b-fe2abf6af992",
   "metadata": {},
   "outputs": [],
   "source": [
    "l1 = [10,20,30]\n",
    "l2 = [100,120,130]\n",
    "\n",
    "#output must be like below\n",
    "#l3 = [110,140,160]\n"
   ]
  },
  {
   "cell_type": "code",
   "execution_count": 9,
   "id": "4cdd58d7-bd9f-435a-970b-a4e479ce4dbe",
   "metadata": {},
   "outputs": [
    {
     "name": "stdout",
     "output_type": "stream",
     "text": [
      "[110, 140, 160]\n"
     ]
    }
   ],
   "source": [
    "l3=[]\n",
    "for i in range(len(l1)):\n",
    "    l3.append(l1[i]+l2[i])\n",
    "print(l3)"
   ]
  },
  {
   "cell_type": "markdown",
   "id": "4a56a086-3d21-43d8-9ccc-f6515fa96073",
   "metadata": {},
   "source": [
    "$zip$"
   ]
  },
  {
   "cell_type": "code",
   "execution_count": 16,
   "id": "6bf60faa-7fb1-4077-ad7e-492d51dc507b",
   "metadata": {},
   "outputs": [
    {
     "data": {
      "text/plain": [
       "[110, 140, 160, 110, 140, 160, 110, 140, 160, 110, 140, 160, 110, 140, 160]"
      ]
     },
     "execution_count": 16,
     "metadata": {},
     "output_type": "execute_result"
    }
   ],
   "source": [
    "# l1 is one list : i\n",
    "# l2 is one list : j\n",
    "\n",
    "for i,j in zip(l1,l2):\n",
    "    l3.append(i+j)\n",
    "l3"
   ]
  },
  {
   "cell_type": "code",
   "execution_count": 17,
   "id": "201af306-e08f-4a89-b2e8-c2abb9f4c35e",
   "metadata": {},
   "outputs": [
    {
     "name": "stdout",
     "output_type": "stream",
     "text": [
      "10 100\n",
      "20 120\n",
      "30 130\n"
     ]
    }
   ],
   "source": [
    "\n",
    "l3=[]\n",
    "for i,j in zip(l1,l2):\n",
    "    print(i,j)"
   ]
  },
  {
   "cell_type": "code",
   "execution_count": 18,
   "id": "ccb09948-b3cc-408d-aca8-5f59890b504d",
   "metadata": {},
   "outputs": [
    {
     "data": {
      "text/plain": [
       "[110, 140, 160]"
      ]
     },
     "execution_count": 18,
     "metadata": {},
     "output_type": "execute_result"
    }
   ],
   "source": [
    "l3=[i+j for i,j in zip(l1,l2)]\n",
    "l3"
   ]
  },
  {
   "cell_type": "code",
   "execution_count": 20,
   "id": "bb70e8d7-a65c-4a6e-84fa-5f8c99bb7c4e",
   "metadata": {},
   "outputs": [
    {
     "name": "stdout",
     "output_type": "stream",
     "text": [
      "A has age 21\n",
      "B has age 23\n",
      "C has age 24\n"
     ]
    }
   ],
   "source": [
    "l1 = ['A','B','C']\n",
    "l2 = [21,23,24]\n",
    "\n",
    "for i,j in zip(l1,l2):\n",
    "    print(f\"{i} has age {j}\")"
   ]
  },
  {
   "cell_type": "markdown",
   "id": "5887022c-aef4-498a-9cfb-41d080470d7b",
   "metadata": {},
   "source": [
    "**Dictionary**\n",
    "- its a key:value pair\n",
    "- in above e.g., A:21,b:23"
   ]
  },
  {
   "cell_type": "code",
   "execution_count": 22,
   "id": "4fd6891c-63da-4ac8-81d4-e2d73b5ba4a3",
   "metadata": {},
   "outputs": [
    {
     "data": {
      "text/plain": [
       "{'A': 21, 'B': 22, 'C': 23}"
      ]
     },
     "execution_count": 22,
     "metadata": {},
     "output_type": "execute_result"
    }
   ],
   "source": [
    "#{<key>:<value>}\n",
    "\n",
    "d1 = {\"A\":21,\"B\":22,\"C\":23}\n",
    "d1"
   ]
  },
  {
   "cell_type": "code",
   "execution_count": 23,
   "id": "e89fa068-1965-41bc-ae98-93b4ab26e04d",
   "metadata": {},
   "outputs": [
    {
     "data": {
      "text/plain": [
       "{21: 'A', 22: 'B', 23: 'C'}"
      ]
     },
     "execution_count": 23,
     "metadata": {},
     "output_type": "execute_result"
    }
   ],
   "source": [
    "d2 = {21:\"A\",22:\"B\",23:\"C\"}\n",
    "d2"
   ]
  },
  {
   "cell_type": "code",
   "execution_count": 25,
   "id": "5498676e-bbce-4316-8cbb-738e6e649997",
   "metadata": {},
   "outputs": [
    {
     "data": {
      "text/plain": [
       "{'fruits': 'apple'}"
      ]
     },
     "execution_count": 25,
     "metadata": {},
     "output_type": "execute_result"
    }
   ],
   "source": [
    "d3 = {'fruits':'apple'}\n",
    "d3"
   ]
  },
  {
   "cell_type": "code",
   "execution_count": 27,
   "id": "40bea6aa-0e00-4c2b-816e-20c609a939e6",
   "metadata": {},
   "outputs": [
    {
     "data": {
      "text/plain": [
       "{21: 21}"
      ]
     },
     "execution_count": 27,
     "metadata": {},
     "output_type": "execute_result"
    }
   ],
   "source": [
    "d4 = {21:21}\n",
    "d4"
   ]
  },
  {
   "cell_type": "code",
   "execution_count": 31,
   "id": "bede2513-1a9e-4deb-9402-2b29f38d710e",
   "metadata": {},
   "outputs": [
    {
     "data": {
      "text/plain": [
       "{'Fruits': ('Banana', 'Papaya', 'Mango')}"
      ]
     },
     "execution_count": 31,
     "metadata": {},
     "output_type": "execute_result"
    }
   ],
   "source": [
    "d5={'Fruits':['Banana','Papaya','Mango']}\n",
    "\n",
    "d5"
   ]
  },
  {
   "cell_type": "code",
   "execution_count": 35,
   "id": "af0e4769-013f-4cdb-beda-a21212b18f83",
   "metadata": {},
   "outputs": [
    {
     "data": {
      "text/plain": [
       "{'Fruits': ('Banana', 'Papaya', 'Mango')}"
      ]
     },
     "execution_count": 35,
     "metadata": {},
     "output_type": "execute_result"
    }
   ],
   "source": [
    "d6={'Fruits':('Banana','Papaya','Mango')}\n",
    "d6\n",
    "\n"
   ]
  },
  {
   "cell_type": "code",
   "execution_count": 37,
   "id": "96553d30-d9f8-4bde-935f-252e70e6d398",
   "metadata": {},
   "outputs": [
    {
     "ename": "TypeError",
     "evalue": "unhashable type: 'list'",
     "output_type": "error",
     "traceback": [
      "\u001b[1;31m---------------------------------------------------------------------------\u001b[0m",
      "\u001b[1;31mTypeError\u001b[0m                                 Traceback (most recent call last)",
      "Cell \u001b[1;32mIn[37], line 1\u001b[0m\n\u001b[1;32m----> 1\u001b[0m d7 \u001b[38;5;241m=\u001b[39m {[\u001b[38;5;124m'\u001b[39m\u001b[38;5;124mBanana\u001b[39m\u001b[38;5;124m'\u001b[39m,\u001b[38;5;124m'\u001b[39m\u001b[38;5;124mPapaya\u001b[39m\u001b[38;5;124m'\u001b[39m,\u001b[38;5;124m'\u001b[39m\u001b[38;5;124mMango\u001b[39m\u001b[38;5;124m'\u001b[39m]:\u001b[38;5;124m'\u001b[39m\u001b[38;5;124mFruits\u001b[39m\u001b[38;5;124m'\u001b[39m}\n\u001b[0;32m      2\u001b[0m d7\n",
      "\u001b[1;31mTypeError\u001b[0m: unhashable type: 'list'"
     ]
    }
   ],
   "source": [
    "d7 = {['Banana','Papaya','Mango']:'Fruits'}\n",
    "d7\n",
    "#list cannot be a key\n"
   ]
  },
  {
   "cell_type": "code",
   "execution_count": 39,
   "id": "fdbaa83a-da13-4fb7-8682-0b8d49f12c12",
   "metadata": {},
   "outputs": [
    {
     "data": {
      "text/plain": [
       "{'Fruits': ('Banana', 'Papaya', 'Mango')}"
      ]
     },
     "execution_count": 39,
     "metadata": {},
     "output_type": "execute_result"
    }
   ],
   "source": [
    "d8 = {'Fruits':('Banana','Papaya','Mango')}\n",
    "d8"
   ]
  },
  {
   "cell_type": "code",
   "execution_count": 40,
   "id": "b145e996-1ab6-4d71-aa65-613e48f60376",
   "metadata": {},
   "outputs": [
    {
     "data": {
      "text/plain": [
       "{('Banana', 'Papaya', 'Mango'): 'Fruits'}"
      ]
     },
     "execution_count": 40,
     "metadata": {},
     "output_type": "execute_result"
    }
   ],
   "source": [
    "d9 = {('Banana','Papaya','Mango'):'Fruits'}\n",
    "d9"
   ]
  },
  {
   "cell_type": "code",
   "execution_count": 41,
   "id": "7c55b68f-8211-4c4d-aa8b-1d19ae0a8353",
   "metadata": {},
   "outputs": [
    {
     "data": {
      "text/plain": [
       "{'Name': {'sub': 'ds'}}"
      ]
     },
     "execution_count": 41,
     "metadata": {},
     "output_type": "execute_result"
    }
   ],
   "source": [
    "d={'sub':'ds'}\n",
    "d10={\"Name\":d}\n",
    "d10"
   ]
  },
  {
   "cell_type": "code",
   "execution_count": 43,
   "id": "74ef6ef4-1f41-42aa-8315-837186699c41",
   "metadata": {},
   "outputs": [
    {
     "data": {
      "text/plain": [
       "{'A': 20}"
      ]
     },
     "execution_count": 43,
     "metadata": {},
     "output_type": "execute_result"
    }
   ],
   "source": [
    "d11 = {\"A\":10,\"A\":20}\n",
    "d11\n",
    "## dictionary works like a database\n",
    "# values an be duplicate, but keys cannot be duplicate\n",
    "# if key is not changing, it will consider latest value\n"
   ]
  },
  {
   "cell_type": "code",
   "execution_count": 44,
   "id": "98a036c8-2932-4c36-b2c3-ea591708e9c0",
   "metadata": {},
   "outputs": [
    {
     "data": {
      "text/plain": [
       "{20: 'C', 30: 'D'}"
      ]
     },
     "execution_count": 44,
     "metadata": {},
     "output_type": "execute_result"
    }
   ],
   "source": [
    "d12 = {20:'C',30:'D'}\n",
    "d12"
   ]
  },
  {
   "cell_type": "markdown",
   "id": "9b986594-8763-41f4-b47a-1e350c6e37c9",
   "metadata": {},
   "source": [
    "- max\n",
    "- min\n",
    "- len\n",
    "- sorted\n",
    "- reversed"
   ]
  },
  {
   "cell_type": "markdown",
   "id": "77b0b2b7-cbcf-4649-89a3-04dbf529d3ee",
   "metadata": {},
   "source": [
    "## Keys are important in dictionary"
   ]
  },
  {
   "cell_type": "code",
   "execution_count": 5,
   "id": "1a32bc8f-184e-4f4c-a80c-f2196aa6bf8c",
   "metadata": {},
   "outputs": [
    {
     "data": {
      "text/plain": [
       "'Usha'"
      ]
     },
     "execution_count": 5,
     "metadata": {},
     "output_type": "execute_result"
    }
   ],
   "source": [
    "d1 = {'Asha':20,'Usha':19,'Lata':23}\n",
    "max(d1)\n",
    "\n",
    "#it takes higher ASCII value of key "
   ]
  },
  {
   "cell_type": "code",
   "execution_count": 6,
   "id": "d4f99d2b-54d4-425e-bbce-fa64de67557b",
   "metadata": {},
   "outputs": [
    {
     "data": {
      "text/plain": [
       "'Asha'"
      ]
     },
     "execution_count": 6,
     "metadata": {},
     "output_type": "execute_result"
    }
   ],
   "source": [
    "min(d1)\n",
    "\n",
    "# #it takes lower ASCII value of key "
   ]
  },
  {
   "cell_type": "code",
   "execution_count": 4,
   "id": "4d8c3392-9450-4135-ba1e-9c2f9d048b30",
   "metadata": {},
   "outputs": [
    {
     "data": {
      "text/plain": [
       "3"
      ]
     },
     "execution_count": 4,
     "metadata": {},
     "output_type": "execute_result"
    }
   ],
   "source": [
    "len(d1)\n",
    "\n",
    "# 3 pair so length is 3"
   ]
  },
  {
   "cell_type": "code",
   "execution_count": 8,
   "id": "0e2a6818-f19d-48bd-bb5e-52f6d819d5ff",
   "metadata": {},
   "outputs": [
    {
     "data": {
      "text/plain": [
       "['Asha', 'Lata', 'Usha']"
      ]
     },
     "execution_count": 8,
     "metadata": {},
     "output_type": "execute_result"
    }
   ],
   "source": [
    "sorted(d1)\n",
    "# sorts as per the keys "
   ]
  },
  {
   "cell_type": "code",
   "execution_count": 9,
   "id": "324943ea-b6e4-43cc-a6ca-271dc5ca4c41",
   "metadata": {},
   "outputs": [
    {
     "data": {
      "text/plain": [
       "<dict_reversekeyiterator at 0x189f9a50b80>"
      ]
     },
     "execution_count": 9,
     "metadata": {},
     "output_type": "execute_result"
    }
   ],
   "source": [
    "reversed(d1)"
   ]
  },
  {
   "cell_type": "code",
   "execution_count": 34,
   "id": "a42cb49a-045c-4a30-8bbf-596fa497541b",
   "metadata": {},
   "outputs": [
    {
     "ename": "NameError",
     "evalue": "name 'reverse' is not defined",
     "output_type": "error",
     "traceback": [
      "\u001b[1;31m---------------------------------------------------------------------------\u001b[0m",
      "\u001b[1;31mNameError\u001b[0m                                 Traceback (most recent call last)",
      "Cell \u001b[1;32mIn[34], line 3\u001b[0m\n\u001b[0;32m      1\u001b[0m d1 \u001b[38;5;241m=\u001b[39m {\u001b[38;5;124m'\u001b[39m\u001b[38;5;124mAsha\u001b[39m\u001b[38;5;124m'\u001b[39m:\u001b[38;5;241m20\u001b[39m,\u001b[38;5;124m'\u001b[39m\u001b[38;5;124mUsha\u001b[39m\u001b[38;5;124m'\u001b[39m:\u001b[38;5;241m19\u001b[39m,\u001b[38;5;124m'\u001b[39m\u001b[38;5;124mLata\u001b[39m\u001b[38;5;124m'\u001b[39m:\u001b[38;5;241m23\u001b[39m}\n\u001b[0;32m      2\u001b[0m \u001b[38;5;28;01mfor\u001b[39;00m i \u001b[38;5;129;01min\u001b[39;00m d1:\n\u001b[1;32m----> 3\u001b[0m     \u001b[38;5;28mprint\u001b[39m(reverse(d1))\n",
      "\u001b[1;31mNameError\u001b[0m: name 'reverse' is not defined"
     ]
    }
   ],
   "source": [
    "d1 = {'Asha':20,'Usha':19,'Lata':23}\n",
    "for i in d1:\n",
    "    print(reversed(d1))"
   ]
  },
  {
   "cell_type": "code",
   "execution_count": 14,
   "id": "8640beb3-a8b3-47b9-99a2-7293e01bcee9",
   "metadata": {},
   "outputs": [
    {
     "ename": "TypeError",
     "evalue": "unsupported operand type(s) for +: 'int' and 'str'",
     "output_type": "error",
     "traceback": [
      "\u001b[1;31m---------------------------------------------------------------------------\u001b[0m",
      "\u001b[1;31mTypeError\u001b[0m                                 Traceback (most recent call last)",
      "Cell \u001b[1;32mIn[14], line 2\u001b[0m\n\u001b[0;32m      1\u001b[0m d1 \u001b[38;5;241m=\u001b[39m {\u001b[38;5;124m'\u001b[39m\u001b[38;5;124mAsha\u001b[39m\u001b[38;5;124m'\u001b[39m:\u001b[38;5;241m20\u001b[39m,\u001b[38;5;124m'\u001b[39m\u001b[38;5;124mUsha\u001b[39m\u001b[38;5;124m'\u001b[39m:\u001b[38;5;241m19\u001b[39m,\u001b[38;5;124m'\u001b[39m\u001b[38;5;124mLata\u001b[39m\u001b[38;5;124m'\u001b[39m:\u001b[38;5;241m23\u001b[39m}\n\u001b[1;32m----> 2\u001b[0m \u001b[38;5;28msum\u001b[39m(d1)\n",
      "\u001b[1;31mTypeError\u001b[0m: unsupported operand type(s) for +: 'int' and 'str'"
     ]
    }
   ],
   "source": [
    "d1 = {'Asha':20,'Usha':19,'Lata':23}\n",
    "sum(d1)"
   ]
  },
  {
   "cell_type": "code",
   "execution_count": 15,
   "id": "db22c949-ccbf-4804-a735-54e5e75f6312",
   "metadata": {},
   "outputs": [
    {
     "data": {
      "text/plain": [
       "20"
      ]
     },
     "execution_count": 15,
     "metadata": {},
     "output_type": "execute_result"
    }
   ],
   "source": [
    "d2 = {20:'A',20:'B',20:'C'}\n",
    "sum(d2)"
   ]
  },
  {
   "cell_type": "code",
   "execution_count": 16,
   "id": "e7af6178-5aad-4d18-ba9f-e7521c14bf04",
   "metadata": {},
   "outputs": [
    {
     "data": {
      "text/plain": [
       "89"
      ]
     },
     "execution_count": 16,
     "metadata": {},
     "output_type": "execute_result"
    }
   ],
   "source": [
    "d3 = {21:'A',23:'B',45:'C'}\n",
    "sum(d3)"
   ]
  },
  {
   "cell_type": "code",
   "execution_count": 27,
   "id": "a9859919-37da-4df8-9be9-a4761017bb4d",
   "metadata": {},
   "outputs": [
    {
     "data": {
      "text/plain": [
       "True"
      ]
     },
     "execution_count": 27,
     "metadata": {},
     "output_type": "execute_result"
    }
   ],
   "source": [
    "## in operator\n",
    "\n",
    "'Asha' in d1\n",
    "# Asha is key"
   ]
  },
  {
   "cell_type": "code",
   "execution_count": 26,
   "id": "13a5d86c-87a0-4184-bbe6-be6f898be685",
   "metadata": {},
   "outputs": [
    {
     "data": {
      "text/plain": [
       "False"
      ]
     },
     "execution_count": 26,
     "metadata": {},
     "output_type": "execute_result"
    }
   ],
   "source": [
    "'A' in d3\n",
    "# 'A' is value"
   ]
  },
  {
   "cell_type": "code",
   "execution_count": 25,
   "id": "86701ce4-b49d-492d-b703-bd062749235b",
   "metadata": {},
   "outputs": [
    {
     "data": {
      "text/plain": [
       "True"
      ]
     },
     "execution_count": 25,
     "metadata": {},
     "output_type": "execute_result"
    }
   ],
   "source": [
    "20 in d2\n",
    "# 20 is key"
   ]
  },
  {
   "cell_type": "code",
   "execution_count": 36,
   "id": "c06b2c6a-9def-4115-8ed3-4c99febfb86f",
   "metadata": {},
   "outputs": [
    {
     "name": "stdout",
     "output_type": "stream",
     "text": [
      "Asha\n",
      "Usha\n",
      "Lata\n"
     ]
    }
   ],
   "source": [
    "# for loop\n",
    "for i in d1:\n",
    "    print(i)\n",
    "# keys are in output nit values"
   ]
  },
  {
   "cell_type": "markdown",
   "id": "6413c633-8acb-4ba1-ba44-0ef2040377f2",
   "metadata": {},
   "source": [
    "$index$"
   ]
  },
  {
   "cell_type": "code",
   "execution_count": 38,
   "id": "2e6f0808-31bf-4d4e-aca3-7100fe0658a7",
   "metadata": {},
   "outputs": [
    {
     "ename": "KeyError",
     "evalue": "0",
     "output_type": "error",
     "traceback": [
      "\u001b[1;31m---------------------------------------------------------------------------\u001b[0m",
      "\u001b[1;31mKeyError\u001b[0m                                  Traceback (most recent call last)",
      "Cell \u001b[1;32mIn[38], line 2\u001b[0m\n\u001b[0;32m      1\u001b[0m d4 \u001b[38;5;241m=\u001b[39m {\u001b[38;5;124m'\u001b[39m\u001b[38;5;124mHarry\u001b[39m\u001b[38;5;124m'\u001b[39m:\u001b[38;5;241m30\u001b[39m,\u001b[38;5;124m'\u001b[39m\u001b[38;5;124mHermoine\u001b[39m\u001b[38;5;124m'\u001b[39m:\u001b[38;5;241m31\u001b[39m,\u001b[38;5;124m'\u001b[39m\u001b[38;5;124mRon\u001b[39m\u001b[38;5;124m'\u001b[39m:\u001b[38;5;241m32\u001b[39m}\n\u001b[1;32m----> 2\u001b[0m d4[\u001b[38;5;241m0\u001b[39m]\n",
      "\u001b[1;31mKeyError\u001b[0m: 0"
     ]
    }
   ],
   "source": [
    "d4 = {'Harry':30,'Hermoine':31,'Ron':32}\n",
    "d4[0]"
   ]
  },
  {
   "cell_type": "markdown",
   "id": "c95e2b7a-429d-4ce0-b583-119486a67f23",
   "metadata": {},
   "source": [
    "- If you want to retrieve the value we need to use the corresponding key"
   ]
  },
  {
   "cell_type": "code",
   "execution_count": 41,
   "id": "0c530167-ff57-4988-8fdc-2e897d752fd4",
   "metadata": {},
   "outputs": [
    {
     "data": {
      "text/plain": [
       "30"
      ]
     },
     "execution_count": 41,
     "metadata": {},
     "output_type": "execute_result"
    }
   ],
   "source": [
    "d4['Harry']"
   ]
  },
  {
   "cell_type": "code",
   "execution_count": 42,
   "id": "7849ae16-8bf1-45ce-bcb6-51d7fa395db8",
   "metadata": {},
   "outputs": [
    {
     "name": "stdout",
     "output_type": "stream",
     "text": [
      "Harry 30\n",
      "Hermoine 31\n",
      "Ron 32\n"
     ]
    }
   ],
   "source": [
    "for i in d4:\n",
    "    print(i,d4[i])"
   ]
  },
  {
   "cell_type": "markdown",
   "id": "5463d264-8d76-4603-9008-f234c50aea4f",
   "metadata": {},
   "source": [
    "***% Dictionary to List %***"
   ]
  },
  {
   "cell_type": "code",
   "execution_count": 44,
   "id": "3f647660-95bc-4222-83fb-00af032f58ac",
   "metadata": {},
   "outputs": [
    {
     "data": {
      "text/plain": [
       "(['Harry', 'Hermoine', 'Ron'], [30, 31, 32])"
      ]
     },
     "execution_count": 44,
     "metadata": {},
     "output_type": "execute_result"
    }
   ],
   "source": [
    "names=[]\n",
    "ages=[]\n",
    "for i in d4:\n",
    "    names.append(i)\n",
    "    ages.append(d4[i])\n",
    "names,ages"
   ]
  },
  {
   "cell_type": "code",
   "execution_count": 46,
   "id": "23378f47-e919-4363-96b9-3e4f7b5fc190",
   "metadata": {},
   "outputs": [
    {
     "name": "stdout",
     "output_type": "stream",
     "text": [
      "Harry 30\n",
      "Hermoine 31\n",
      "Ron 32\n"
     ]
    }
   ],
   "source": [
    "for i,j in zip(names,ages):\n",
    "    print(i,j)"
   ]
  },
  {
   "cell_type": "code",
   "execution_count": null,
   "id": "97f34032-633e-4233-8ed0-7b655e0ce106",
   "metadata": {},
   "outputs": [],
   "source": []
  },
  {
   "cell_type": "code",
   "execution_count": null,
   "id": "9e22dfed-be97-4930-832a-a7eb24204b00",
   "metadata": {},
   "outputs": [],
   "source": []
  },
  {
   "cell_type": "code",
   "execution_count": null,
   "id": "8b00fae3-b2c1-4147-8050-153a9c01a9d4",
   "metadata": {},
   "outputs": [],
   "source": []
  },
  {
   "cell_type": "code",
   "execution_count": null,
   "id": "67d17431-c673-4b20-b192-1817f731c77a",
   "metadata": {},
   "outputs": [],
   "source": []
  },
  {
   "cell_type": "code",
   "execution_count": null,
   "id": "93bc836a-b745-430f-9b88-2c8f490dbafb",
   "metadata": {},
   "outputs": [],
   "source": []
  },
  {
   "cell_type": "code",
   "execution_count": 12,
   "id": "f9f777a6-08fb-48f5-aa43-0c042b99e928",
   "metadata": {},
   "outputs": [
    {
     "data": {
      "text/plain": [
       "{'odd': None, 'even': None}"
      ]
     },
     "execution_count": 12,
     "metadata": {},
     "output_type": "execute_result"
    }
   ],
   "source": [
    "# Q. Write a program, ask user to get random numbers\n",
    "# Perform even/odd operations\n",
    "# # {'even':[2,4,6,8],'odd':[1,3,5,7]}\n",
    "even=[]\n",
    "odd=[]\n",
    "##or even,odd=[],[]\n",
    "d={}\n",
    "import random\n",
    "for i in range(10):\n",
    "    num = random.randint(11,20)\n",
    "    if num%2==0:\n",
    "        d['even']=even.append(num)\n",
    "    else:\n",
    "        d['odd']=odd.append(num)\n",
    "\n",
    "even\n",
    "odd\n",
    "d\n"
   ]
  },
  {
   "cell_type": "code",
   "execution_count": 13,
   "id": "63ec2eab-4898-4086-9551-65313006403b",
   "metadata": {},
   "outputs": [
    {
     "data": {
      "text/plain": [
       "{'even': [16, 12, 12, 18, 20, 14, 12, 14], 'odd': [11, 13]}"
      ]
     },
     "execution_count": 13,
     "metadata": {},
     "output_type": "execute_result"
    }
   ],
   "source": [
    "even=[]\n",
    "odd=[]\n",
    "##or even,odd=[],[]\n",
    "d={}\n",
    "import random\n",
    "for i in range(10):\n",
    "    num = random.randint(11,20)\n",
    "    if num%2==0:\n",
    "        even.append(num)\n",
    "    else:\n",
    "        odd.append(num)\n",
    "\n",
    "d['even']=even\n",
    "d['odd']=odd\n",
    "d"
   ]
  },
  {
   "cell_type": "code",
   "execution_count": 14,
   "id": "cf588280-cc54-413c-baf6-7e046227271f",
   "metadata": {},
   "outputs": [
    {
     "data": {
      "text/plain": [
       "['__add__',\n",
       " '__class__',\n",
       " '__class_getitem__',\n",
       " '__contains__',\n",
       " '__delattr__',\n",
       " '__delitem__',\n",
       " '__dir__',\n",
       " '__doc__',\n",
       " '__eq__',\n",
       " '__format__',\n",
       " '__ge__',\n",
       " '__getattribute__',\n",
       " '__getitem__',\n",
       " '__getstate__',\n",
       " '__gt__',\n",
       " '__hash__',\n",
       " '__iadd__',\n",
       " '__imul__',\n",
       " '__init__',\n",
       " '__init_subclass__',\n",
       " '__iter__',\n",
       " '__le__',\n",
       " '__len__',\n",
       " '__lt__',\n",
       " '__mul__',\n",
       " '__ne__',\n",
       " '__new__',\n",
       " '__reduce__',\n",
       " '__reduce_ex__',\n",
       " '__repr__',\n",
       " '__reversed__',\n",
       " '__rmul__',\n",
       " '__setattr__',\n",
       " '__setitem__',\n",
       " '__sizeof__',\n",
       " '__str__',\n",
       " '__subclasshook__',\n",
       " 'append',\n",
       " 'clear',\n",
       " 'copy',\n",
       " 'count',\n",
       " 'extend',\n",
       " 'index',\n",
       " 'insert',\n",
       " 'pop',\n",
       " 'remove',\n",
       " 'reverse',\n",
       " 'sort']"
      ]
     },
     "execution_count": 14,
     "metadata": {},
     "output_type": "execute_result"
    }
   ],
   "source": [
    "dir([])"
   ]
  },
  {
   "cell_type": "code",
   "execution_count": 20,
   "id": "a87270b9-5738-4ff1-bb68-4e4e6ee6799b",
   "metadata": {},
   "outputs": [],
   "source": [
    "## Explore Methods in dictionary"
   ]
  },
  {
   "cell_type": "code",
   "execution_count": 17,
   "id": "c55d04c7-b0b9-449e-b343-eb81116bde99",
   "metadata": {},
   "outputs": [
    {
     "data": {
      "text/plain": [
       "{}"
      ]
     },
     "execution_count": 17,
     "metadata": {},
     "output_type": "execute_result"
    }
   ],
   "source": [
    "d1 = {'Veg':'Cabbage','Non-veg':'Fish'}\n",
    "d1.clear()\n",
    "d1"
   ]
  },
  {
   "cell_type": "code",
   "execution_count": 19,
   "id": "7cb23602-2bbe-48ca-8e68-32ee7e5d3d04",
   "metadata": {},
   "outputs": [
    {
     "ename": "SyntaxError",
     "evalue": "invalid syntax (967314734.py, line 1)",
     "output_type": "error",
     "traceback": [
      "\u001b[1;36m  Cell \u001b[1;32mIn[19], line 1\u001b[1;36m\u001b[0m\n\u001b[1;33m    d1.copy('Veg':'Potato')\u001b[0m\n\u001b[1;37m                 ^\u001b[0m\n\u001b[1;31mSyntaxError\u001b[0m\u001b[1;31m:\u001b[0m invalid syntax\n"
     ]
    }
   ],
   "source": [
    "d1.copy('Veg':'Potato')"
   ]
  },
  {
   "cell_type": "markdown",
   "id": "7777d493-f421-47d3-9069-bedb6a6c9635",
   "metadata": {},
   "source": [
    "# Feb 2025\n"
   ]
  },
  {
   "cell_type": "code",
   "execution_count": 33,
   "id": "28bdeaea-1195-4ce8-b7b7-d457cede226b",
   "metadata": {},
   "outputs": [],
   "source": [
    "\n",
    "names = ['Ramesh','Suresh','Sathish']\n",
    "age = [20,24,25]\n",
    "# Ramesh age is 20\n",
    "# Suresh age is 24\n"
   ]
  },
  {
   "cell_type": "code",
   "execution_count": 5,
   "id": "81f98f48-2704-4200-aa01-9a8e02803bc1",
   "metadata": {},
   "outputs": [
    {
     "name": "stdout",
     "output_type": "stream",
     "text": [
      "Ramesh age is 20\n",
      "Suresh age is 24\n",
      "Sathish age is 25\n"
     ]
    }
   ],
   "source": [
    "for i in range(len(names)):\n",
    "    print(f\"{names[i]} age is {age[i]}\")"
   ]
  },
  {
   "cell_type": "markdown",
   "id": "367c0040-8c14-410b-b514-96e0431142bd",
   "metadata": {},
   "source": [
    "## zip"
   ]
  },
  {
   "cell_type": "code",
   "execution_count": 7,
   "id": "079c8e41-7abc-46c5-a181-ce1ed72c30c8",
   "metadata": {},
   "outputs": [
    {
     "name": "stdout",
     "output_type": "stream",
     "text": [
      "Ramesh 20\n",
      "Ramesh age is 20\n",
      "Suresh 24\n",
      "Suresh age is 24\n",
      "Sathish 25\n",
      "Sathish age is 25\n"
     ]
    }
   ],
   "source": [
    "names = ['Ramesh','Suresh','Sathish']\n",
    "age = [20,24,25]\n",
    "for i,j in zip(names,age):\n",
    "    print(i,j)\n",
    "    print(f\"{i} age is {j}\")"
   ]
  },
  {
   "cell_type": "code",
   "execution_count": 11,
   "id": "3d27af99-196d-46e8-8ae4-21b6075ded5a",
   "metadata": {},
   "outputs": [
    {
     "name": "stdout",
     "output_type": "stream",
     "text": [
      "Ramesh\n",
      "20\n",
      "Suresh\n",
      "24\n",
      "Sathish\n",
      "25\n"
     ]
    }
   ],
   "source": [
    "names = ['Ramesh','Suresh','Sathish']\n",
    "age = [20,24,25]\n",
    "for i,j in zip(names,age):\n",
    "    print(i)\n",
    "    print(j)"
   ]
  },
  {
   "cell_type": "code",
   "execution_count": 13,
   "id": "e7aa4559-0385-473d-8435-8388f6cbd6e2",
   "metadata": {},
   "outputs": [
    {
     "name": "stdout",
     "output_type": "stream",
     "text": [
      "Ramesh 20\n",
      "Suresh 24\n",
      "Sathish 25\n"
     ]
    }
   ],
   "source": [
    "# list comprehension\n",
    "o = [print(i,j) for i,j in zip(names,age)]"
   ]
  },
  {
   "cell_type": "code",
   "execution_count": null,
   "id": "43877d82-bb53-47fb-b073-8811c5cb447e",
   "metadata": {},
   "outputs": [],
   "source": [
    "names = ['Ramesh','Suresh','Sathish']\n",
    "age = [20,24,25]\n"
   ]
  },
  {
   "cell_type": "markdown",
   "id": "6522c07d-ccad-4d60-a19b-40fd237bee4b",
   "metadata": {},
   "source": [
    "**Dictionary**\n",
    "\n",
    "- if you want to pair any values, it can done using dictionary\n",
    "- its a key:value pair\n",
    "- its represented in curly braces **{key:value}**\n",
    "- Rameshand 20 years both are pair -- **{'Ramesh',20}**"
   ]
  },
  {
   "cell_type": "code",
   "execution_count": 15,
   "id": "c53e5bed-9ce7-4371-919c-f2419bd08d7b",
   "metadata": {},
   "outputs": [
    {
     "data": {
      "text/plain": [
       "{'A': 2, 'B': 3, 'C': 4}"
      ]
     },
     "execution_count": 15,
     "metadata": {},
     "output_type": "execute_result"
    }
   ],
   "source": [
    "d1 = {'A':2, 'B':3, 'C':4}\n",
    "d1"
   ]
  },
  {
   "cell_type": "code",
   "execution_count": 16,
   "id": "592eeb1c-b5d8-4102-874c-02cf0bd7eaae",
   "metadata": {},
   "outputs": [
    {
     "data": {
      "text/plain": [
       "{3: 'D', 5: 'E', 6: 'F'}"
      ]
     },
     "execution_count": 16,
     "metadata": {},
     "output_type": "execute_result"
    }
   ],
   "source": [
    "d2 = {3:'D',5:'E',6:'F'}\n",
    "d2"
   ]
  },
  {
   "cell_type": "code",
   "execution_count": 43,
   "id": "ced25f3d-3db5-4669-a16c-45eaa6f31243",
   "metadata": {},
   "outputs": [
    {
     "data": {
      "text/plain": [
       "({'A': [3, 4, 5], 5: 'Red'},\n",
       " {2: (3, 4, 5), 56: 'White'},\n",
       " {(1, 2): 'R'},\n",
       " {1111: {'q': '99'}},\n",
       " {'a': '34', 'F': 54},\n",
       " {'Ram': 34},\n",
       " {'Ram': 33},\n",
       " {'A': 23, 'B': 23},\n",
       " {20: 'H'},\n",
       " {'True': 'True'},\n",
       " {True: 'true'},\n",
       " {'Fruits': ['Apple', 'Banana']},\n",
       " {'Fruits': ('Apple', 'Banana')},\n",
       " {('Apple', 'Banana'): 'Fruits'})"
      ]
     },
     "execution_count": 43,
     "metadata": {},
     "output_type": "execute_result"
    }
   ],
   "source": [
    "# Make dictionary in possible ways\n",
    "\n",
    "d3 = {'A':[3,4,5], 5:'Red'}\n",
    "\n",
    "d4 = {2:(3,4,5), 56:'White'}\n",
    "\n",
    "d5 = {(1,2):'R'}\n",
    "\n",
    "## d6 = {[6,7,8]:'T'} --> TypeError: unhashable type: 'list'\n",
    "\n",
    "## d7 = {{'fuel':'petrol'}:{'q':'99'}}  ---> TypeError: unhashable type: 'dict'\n",
    "\n",
    "d8 = {1111:{'q':'99'}} \n",
    "\n",
    "d9 = {'a':'34','F':54}\n",
    "\n",
    "d10 = {'Ram':33, 'Ram':34}  \n",
    "\n",
    "## if there are same key names, it will take the latest value\n",
    "## Dictionary is like a database\n",
    "\n",
    "d11 = {'Ram':33, 'Ram':33} \n",
    "\n",
    "# here it will give output only once\n",
    "# Dictionary will not allow duplicates\n",
    "\n",
    "d12 = {'A': 23, 'B': 23}\n",
    "\n",
    "# In dictionary keys cannot be duplicate but values can be duplicate\n",
    "\n",
    "d13 = {20:'G', 20: 'H'}\n",
    "\n",
    "d14 = {'True':'True'}\n",
    "\n",
    "d15 = {True: 'true'}\n",
    "\n",
    "d16 = {'Fruits': ['Apple', 'Banana']}\n",
    "\n",
    "## d17 = {['Apple', 'Banana']: 'Fruits'}\n",
    "\n",
    "d18 = {'Fruits': ('Apple', 'Banana')}\n",
    "\n",
    "d19 = {('Apple', 'Banana'): 'Fruits'}\n",
    "\n",
    "\n",
    "d3,d4,d5,d8,d9,d10,d11,d12, d13, d14, d15, d16, d18, d19"
   ]
  },
  {
   "cell_type": "code",
   "execution_count": 1,
   "id": "dd815e02-eb6e-462f-b744-8c17e46d7d59",
   "metadata": {},
   "outputs": [
    {
     "data": {
      "text/plain": [
       "'Grapes'"
      ]
     },
     "execution_count": 1,
     "metadata": {},
     "output_type": "execute_result"
    }
   ],
   "source": [
    "### list as keys fails because list has mutablebehaviour\n",
    "### tuple works as key \n",
    "\n",
    "dict1 = {'Apple':10, 'Banana':30, 'Grapes':40}\n",
    "max(dict1)"
   ]
  },
  {
   "cell_type": "code",
   "execution_count": 2,
   "id": "aa107707-cd47-4343-9790-8c737db4d55f",
   "metadata": {},
   "outputs": [
    {
     "data": {
      "text/plain": [
       "'apple'"
      ]
     },
     "execution_count": 2,
     "metadata": {},
     "output_type": "execute_result"
    }
   ],
   "source": [
    "dict2 = {'Apple':10,'apple':30}\n",
    "max(dict2)"
   ]
  },
  {
   "cell_type": "code",
   "execution_count": 3,
   "id": "6e36d152-3c5c-484f-8764-27baa8617bf2",
   "metadata": {},
   "outputs": [
    {
     "ename": "TypeError",
     "evalue": "'>' not supported between instances of 'str' and 'int'",
     "output_type": "error",
     "traceback": [
      "\u001b[1;31m---------------------------------------------------------------------------\u001b[0m",
      "\u001b[1;31mTypeError\u001b[0m                                 Traceback (most recent call last)",
      "Cell \u001b[1;32mIn[3], line 2\u001b[0m\n\u001b[0;32m      1\u001b[0m dict3 \u001b[38;5;241m=\u001b[39m {\u001b[38;5;241m20\u001b[39m:\u001b[38;5;124m'\u001b[39m\u001b[38;5;124mApple\u001b[39m\u001b[38;5;124m'\u001b[39m,\u001b[38;5;241m30\u001b[39m:\u001b[38;5;124m'\u001b[39m\u001b[38;5;124mBanana\u001b[39m\u001b[38;5;124m'\u001b[39m, \u001b[38;5;241m50\u001b[39m:\u001b[38;5;124m'\u001b[39m\u001b[38;5;124mGrapes\u001b[39m\u001b[38;5;124m'\u001b[39m,\u001b[38;5;124m'\u001b[39m\u001b[38;5;124mBanana\u001b[39m\u001b[38;5;124m'\u001b[39m:\u001b[38;5;241m30\u001b[39m}\n\u001b[1;32m----> 2\u001b[0m \u001b[38;5;28mmax\u001b[39m(dict3)\n",
      "\u001b[1;31mTypeError\u001b[0m: '>' not supported between instances of 'str' and 'int'"
     ]
    }
   ],
   "source": [
    "dict3 = {20:'Apple',30:'Banana', 50:'Grapes','Banana':30}\n",
    "max(dict3)"
   ]
  },
  {
   "cell_type": "code",
   "execution_count": 9,
   "id": "61d90f41-07f8-4973-b3fb-41c14ab707b9",
   "metadata": {},
   "outputs": [
    {
     "data": {
      "text/plain": [
       "('Apple', 'Apple')"
      ]
     },
     "execution_count": 9,
     "metadata": {},
     "output_type": "execute_result"
    }
   ],
   "source": [
    "dict1 = {'Apple':10, 'Banana':30, 'Grapes':40}\n",
    "\n",
    "dict2 = {'Apple':10,'apple':30}\n",
    "\n",
    "dict3 = {20:'Apple',30:'Banana', 50:'Grapes','Banana':30}\n",
    "min(dict1), min(dict2), \n",
    "#min(dict3)"
   ]
  },
  {
   "cell_type": "code",
   "execution_count": 10,
   "id": "f875ba80-245a-41c4-b349-1c895cbdacc9",
   "metadata": {},
   "outputs": [
    {
     "data": {
      "text/plain": [
       "<dict_reversekeyiterator at 0x1c6bea76cf0>"
      ]
     },
     "execution_count": 10,
     "metadata": {},
     "output_type": "execute_result"
    }
   ],
   "source": [
    "reversed(dict1)"
   ]
  },
  {
   "cell_type": "code",
   "execution_count": 11,
   "id": "7ee9539f-2b70-40cd-a4b5-f66b96afc010",
   "metadata": {},
   "outputs": [
    {
     "data": {
      "text/plain": [
       "['Apple', 'Banana', 'Grapes']"
      ]
     },
     "execution_count": 11,
     "metadata": {},
     "output_type": "execute_result"
    }
   ],
   "source": [
    "sorted(dict1)"
   ]
  },
  {
   "cell_type": "code",
   "execution_count": 12,
   "id": "541b5b55-cc3d-4174-b795-bb9af7eda384",
   "metadata": {},
   "outputs": [
    {
     "data": {
      "text/plain": [
       "2"
      ]
     },
     "execution_count": 12,
     "metadata": {},
     "output_type": "execute_result"
    }
   ],
   "source": [
    "len(dict2)"
   ]
  },
  {
   "cell_type": "code",
   "execution_count": 19,
   "id": "453dac9c-c41c-475e-85de-301672ea8d41",
   "metadata": {},
   "outputs": [
    {
     "data": {
      "text/plain": [
       "True"
      ]
     },
     "execution_count": 19,
     "metadata": {},
     "output_type": "execute_result"
    }
   ],
   "source": [
    "dict1 = {'Apple':10, 'Beetroot':30, 'Carrot':40}\n",
    "'Apple' in dict1"
   ]
  },
  {
   "cell_type": "code",
   "execution_count": 14,
   "id": "4bc082de-1282-407b-9df3-4e03e6698b41",
   "metadata": {},
   "outputs": [
    {
     "data": {
      "text/plain": [
       "False"
      ]
     },
     "execution_count": 14,
     "metadata": {},
     "output_type": "execute_result"
    }
   ],
   "source": [
    "20 in dict1"
   ]
  },
  {
   "cell_type": "code",
   "execution_count": 16,
   "id": "6d806fa5-9d14-4d88-b1b1-6e4fa1917c67",
   "metadata": {},
   "outputs": [
    {
     "ename": "SyntaxError",
     "evalue": "illegal target for annotation (2654626932.py, line 1)",
     "output_type": "error",
     "traceback": [
      "\u001b[1;36m  Cell \u001b[1;32mIn[16], line 1\u001b[1;36m\u001b[0m\n\u001b[1;33m    'Apple':20 in dict1\u001b[0m\n\u001b[1;37m    ^\u001b[0m\n\u001b[1;31mSyntaxError\u001b[0m\u001b[1;31m:\u001b[0m illegal target for annotation\n"
     ]
    }
   ],
   "source": [
    "'Apple':20 in dict1\n",
    "\n",
    "## keys are important"
   ]
  },
  {
   "cell_type": "code",
   "execution_count": 20,
   "id": "7964b8f0-968f-481d-9e7e-19efcc40f067",
   "metadata": {},
   "outputs": [
    {
     "name": "stdout",
     "output_type": "stream",
     "text": [
      "Apple\n",
      "Beetroot\n",
      "Carrot\n"
     ]
    }
   ],
   "source": [
    "for i in dict1:\n",
    "    print(i)"
   ]
  },
  {
   "cell_type": "markdown",
   "id": "b91b86f8-7c92-4830-9518-79df13ab139a",
   "metadata": {},
   "source": [
    "**index**"
   ]
  },
  {
   "cell_type": "code",
   "execution_count": 22,
   "id": "3f0f5e12-da7e-4d57-90fc-e1c0fd877e94",
   "metadata": {},
   "outputs": [
    {
     "data": {
      "text/plain": [
       "10"
      ]
     },
     "execution_count": 22,
     "metadata": {},
     "output_type": "execute_result"
    }
   ],
   "source": [
    "l1 = [10,20,30]\n",
    "l1[0]"
   ]
  },
  {
   "cell_type": "code",
   "execution_count": 23,
   "id": "1609432a-ac2e-4743-90e1-eb3ce64086aa",
   "metadata": {},
   "outputs": [
    {
     "data": {
      "text/plain": [
       "'p'"
      ]
     },
     "execution_count": 23,
     "metadata": {},
     "output_type": "execute_result"
    }
   ],
   "source": [
    "str1='python'\n",
    "str1[0]"
   ]
  },
  {
   "cell_type": "code",
   "execution_count": 24,
   "id": "ba7a2060-4ff8-4cb3-bbaa-e2a07bd1bbc0",
   "metadata": {},
   "outputs": [
    {
     "ename": "KeyError",
     "evalue": "0",
     "output_type": "error",
     "traceback": [
      "\u001b[1;31m---------------------------------------------------------------------------\u001b[0m",
      "\u001b[1;31mKeyError\u001b[0m                                  Traceback (most recent call last)",
      "Cell \u001b[1;32mIn[24], line 2\u001b[0m\n\u001b[0;32m      1\u001b[0m dict1 \u001b[38;5;241m=\u001b[39m {\u001b[38;5;124m'\u001b[39m\u001b[38;5;124mApple\u001b[39m\u001b[38;5;124m'\u001b[39m:\u001b[38;5;241m10\u001b[39m, \u001b[38;5;124m'\u001b[39m\u001b[38;5;124mBeetroot\u001b[39m\u001b[38;5;124m'\u001b[39m:\u001b[38;5;241m30\u001b[39m, \u001b[38;5;124m'\u001b[39m\u001b[38;5;124mCarrot\u001b[39m\u001b[38;5;124m'\u001b[39m:\u001b[38;5;241m40\u001b[39m}\n\u001b[1;32m----> 2\u001b[0m dict1[\u001b[38;5;241m0\u001b[39m]\n",
      "\u001b[1;31mKeyError\u001b[0m: 0"
     ]
    }
   ],
   "source": [
    "dict1 = {'Apple':10, 'Beetroot':30, 'Carrot':40}\n",
    "dict1[0]"
   ]
  },
  {
   "cell_type": "markdown",
   "id": "572069f2-bbf7-4285-9cad-207b06faa421",
   "metadata": {},
   "source": [
    "**how to extract the values**\n",
    "\n",
    "- in dictionary wee have a concept key:value pair\n",
    "- keys are very important\n",
    "- in order to get the values we need to take the keys help"
   ]
  },
  {
   "cell_type": "code",
   "execution_count": 27,
   "id": "8b106d15-ffb8-4672-80e7-ae3318ae021b",
   "metadata": {},
   "outputs": [
    {
     "data": {
      "text/plain": [
       "(10, 40)"
      ]
     },
     "execution_count": 27,
     "metadata": {},
     "output_type": "execute_result"
    }
   ],
   "source": [
    "dict1 = {'Apple':10, 'Beetroot':30, 'Carrot':40}\n",
    "dict1['Apple'],dict1['Carrot']\n",
    "\n",
    "## so, call the values by using keys"
   ]
  },
  {
   "cell_type": "code",
   "execution_count": 29,
   "id": "e61907b2-a87f-4ec7-8cc3-ecc46eb95a6a",
   "metadata": {},
   "outputs": [
    {
     "name": "stdout",
     "output_type": "stream",
     "text": [
      "10\n",
      "30\n",
      "40\n"
     ]
    }
   ],
   "source": [
    "dict1 = {'Apple':10, 'Beetroot':30, 'Carrot':40}\n",
    "\n",
    "for i in dict1:\n",
    "    print(dict1[i])"
   ]
  },
  {
   "cell_type": "code",
   "execution_count": 30,
   "id": "19e81d25-5c74-44d4-8029-9d30408d3e8f",
   "metadata": {},
   "outputs": [
    {
     "name": "stdout",
     "output_type": "stream",
     "text": [
      "Apple 10\n",
      "Beetroot 30\n",
      "Carrot 40\n"
     ]
    }
   ],
   "source": [
    "dict1 = {'Apple':10, 'Beetroot':30, 'Carrot':40}\n",
    "\n",
    "for i in dict1:\n",
    "    print(i,dict1[i])"
   ]
  },
  {
   "cell_type": "code",
   "execution_count": 33,
   "id": "e6ead545-2e7d-4470-8205-6f2a00e5c2f3",
   "metadata": {},
   "outputs": [
    {
     "name": "stdout",
     "output_type": "stream",
     "text": [
      "Ramesh age is 20\n",
      "Suresh age is 24\n",
      "Sathish age is 25\n"
     ]
    }
   ],
   "source": [
    "names = ['Ramesh','Suresh','Sathish']\n",
    "age = [20,24,25]\n",
    "\n",
    "names = {'Ramesh':20,'Suresh':24,'Sathish':25}\n",
    "# Ramesh age is 20\n",
    "for i in names:\n",
    "    print(f'{i} age is {names[i]}')\n",
    "\n",
    "#or\n",
    "# for key in names:\n",
    "#value=names[key]\n",
    "#print(f'{key} age is {value}')\n"
   ]
  },
  {
   "cell_type": "code",
   "execution_count": 34,
   "id": "5b1d44ae-1f03-4c96-a482-4f6cc8383f69",
   "metadata": {},
   "outputs": [],
   "source": [
    "## range means only number will come\n",
    "# number is not useful its a pair"
   ]
  },
  {
   "cell_type": "code",
   "execution_count": 41,
   "id": "13eb5021-1e63-4b30-bf7b-59936cbee910",
   "metadata": {},
   "outputs": [
    {
     "data": {
      "text/plain": [
       "'Carrot'"
      ]
     },
     "execution_count": 41,
     "metadata": {},
     "output_type": "execute_result"
    }
   ],
   "source": [
    "d = {'Fruits':['Apple','Beetroot','Carrot']}\n",
    "#get carrot\n",
    "\n",
    "d['Fruits'][2]\n"
   ]
  },
  {
   "cell_type": "code",
   "execution_count": 50,
   "id": "d0fecfe8-3a58-472a-a438-a244e63d8503",
   "metadata": {},
   "outputs": [
    {
     "data": {
      "text/plain": [
       "'green'"
      ]
     },
     "execution_count": 50,
     "metadata": {},
     "output_type": "execute_result"
    }
   ],
   "source": [
    "d = {'Fruits':{'Apple':['sweet','sour','green']}}\n",
    "d['Fruits']['Apple'][2]\n"
   ]
  },
  {
   "cell_type": "code",
   "execution_count": 61,
   "id": "5dee49e3-4e8d-437f-94c1-53525b511908",
   "metadata": {},
   "outputs": [
    {
     "data": {
      "text/plain": [
       "50"
      ]
     },
     "execution_count": 61,
     "metadata": {},
     "output_type": "execute_result"
    }
   ],
   "source": [
    "d = {'Fruits':[{'Cost':[50]}]}\n",
    "\n",
    "##d['Fruits'][0],d['Fruits'][0]['Cost'][0]\n",
    "\n",
    "#d['Fruits']  list\n",
    "#d['Fruits'][0]  dict\n",
    "##d['Fruits'][0]['Cost'] list\n",
    "##d['Fruits'][0]['Cost'][0]\n",
    "\n",
    "d['Fruits'][0]['Cost'][0]"
   ]
  },
  {
   "cell_type": "code",
   "execution_count": 77,
   "id": "d5613de6-391a-40a7-bd96-301e34e41b19",
   "metadata": {},
   "outputs": [
    {
     "data": {
      "text/plain": [
       "(40, None)"
      ]
     },
     "execution_count": 77,
     "metadata": {},
     "output_type": "execute_result"
    }
   ],
   "source": [
    "d1 = {'Fruits':['Apple'],'Cost':[{'1kg':[20,30,40],'2kg':None}]}\n",
    "## get None and 40\n",
    "\n",
    "len(d1)\n",
    "\n",
    "d1['Cost'][0]['1kg'][2], d1['Cost'][0]['2kg']\n"
   ]
  },
  {
   "cell_type": "code",
   "execution_count": 88,
   "id": "98fbf2a2-b85e-4b42-bd28-fc9b9a330b3c",
   "metadata": {},
   "outputs": [
    {
     "data": {
      "text/plain": [
       "{'Shambaji'}"
      ]
     },
     "execution_count": 88,
     "metadata": {},
     "output_type": "execute_result"
    }
   ],
   "source": [
    "d2 = {'Fruits':{'Orange':{'Nagpur':{'MH':{'King':{'Shivaji':{'Shambaji'}}}}}}}\n",
    "\n",
    "# get Shambhaji\n",
    "\n",
    "d2['Fruits']['Orange']['Nagpur']['MH']['King']['Shivaji']\n",
    "\n",
    "## Practice sets and get how to get Shambaji"
   ]
  },
  {
   "cell_type": "markdown",
   "id": "e8f3af31-dc85-461b-a334-b28a3ca0a30a",
   "metadata": {},
   "source": [
    "**how to create an empty dictionary**\n",
    "\n",
    "- now onwards focus on creating empty list, strings and dictionary\n",
    "- we will take empty list and use append operation\n",
    "- we will take empty string and use concatenation\n",
    "- we will take empty dictionary and use key:value pair concept"
   ]
  },
  {
   "cell_type": "code",
   "execution_count": 89,
   "id": "43062459-9e36-4ce9-8a26-80f45d3942e9",
   "metadata": {},
   "outputs": [
    {
     "data": {
      "text/plain": [
       "[1, 2]"
      ]
     },
     "execution_count": 89,
     "metadata": {},
     "output_type": "execute_result"
    }
   ],
   "source": [
    "# list\n",
    "l=[]\n",
    "l.append(1)\n",
    "l.append(2)\n",
    "l\n"
   ]
  },
  {
   "cell_type": "code",
   "execution_count": 91,
   "id": "95d17494-3479-4248-a3be-c5f57531d50e",
   "metadata": {},
   "outputs": [
    {
     "data": {
      "text/plain": [
       "'python'"
      ]
     },
     "execution_count": 91,
     "metadata": {},
     "output_type": "execute_result"
    }
   ],
   "source": [
    "# strings\n",
    "\n",
    "s=''\n",
    "s=s+'p'\n",
    "s=s+'y'\n",
    "s=s+'t'\n",
    "s=s+'h'\n",
    "s=s+'o'\n",
    "s=s+'n'\n",
    "s"
   ]
  },
  {
   "cell_type": "code",
   "execution_count": 94,
   "id": "ad3b8993-273d-40a2-8b5e-3f13652a555a",
   "metadata": {},
   "outputs": [
    {
     "data": {
      "text/plain": [
       "{'x': 10, 'y': 20, 'z': 30}"
      ]
     },
     "execution_count": 94,
     "metadata": {},
     "output_type": "execute_result"
    }
   ],
   "source": [
    "# dictionary\n",
    "\n",
    "d = {}\n",
    "d['x'] = 10\n",
    "d['y'] = 20\n",
    "d['z'] = 30\n",
    "d\n",
    "\n",
    "# d[key]=value\n",
    "# d[i] = j"
   ]
  },
  {
   "cell_type": "markdown",
   "id": "fc602d33-7751-4c57-b429-781b091ca884",
   "metadata": {},
   "source": [
    "**how to convert list to dictionary**"
   ]
  },
  {
   "cell_type": "code",
   "execution_count": 115,
   "id": "039ed5aa-0c18-467d-9802-f88f0310753b",
   "metadata": {},
   "outputs": [
    {
     "data": {
      "text/plain": [
       "{'A': 'Apple', 'B': 'Bat', 'C': 'Cat', 'D': 'Dog'}"
      ]
     },
     "execution_count": 115,
     "metadata": {},
     "output_type": "execute_result"
    }
   ],
   "source": [
    "names = ['A','B','C','D']   ## i\n",
    "words = ['Apple','Bat','Cat','Dog'] ## j\n",
    "dict={}\n",
    "for i,j in zip(names,words):\n",
    "        dict[i]=j\n",
    "dict"
   ]
  },
  {
   "cell_type": "markdown",
   "id": "bbf12aff-3c3a-4252-a809-5a8be61a0e0e",
   "metadata": {},
   "source": [
    "**dictionary comprehension**\n",
    "\n",
    "- for list comprehension we written everything inside list\n",
    "- for dictionary comprehension we written everything inside dictionary\n"
   ]
  },
  {
   "cell_type": "code",
   "execution_count": 117,
   "id": "4aa9b4aa-3e6a-451e-be16-1f56b48cf4e6",
   "metadata": {},
   "outputs": [
    {
     "data": {
      "text/plain": [
       "{'A': 'Apple', 'B': 'Bat', 'C': 'Cat', 'D': 'Dog'}"
      ]
     },
     "execution_count": 117,
     "metadata": {},
     "output_type": "execute_result"
    }
   ],
   "source": [
    "# list comprehension: [<output>_<for loop>]\n",
    "# dictionary comprehension: [<key:value>_<for loop>]\n",
    "names = ['A','B','C','D']   ## i\n",
    "words = ['Apple','Bat','Cat','Dog'] ## j\n",
    "\n",
    "{i:j for i,j in zip(names,words)}"
   ]
  },
  {
   "cell_type": "markdown",
   "id": "24a79076-4276-4f81-b3ba-74f43b021003",
   "metadata": {},
   "source": [
    "**mutable-immutable**\n",
    "\n",
    "- list  mutable\n",
    "- dictionary  mutable\n",
    "- strings  immutable\n",
    "- tuple immutable\n",
    "- in dictionary we can change values using keys\n",
    "  "
   ]
  },
  {
   "cell_type": "code",
   "execution_count": 119,
   "id": "3606ed76-cb91-45f4-8106-50cb68f24639",
   "metadata": {},
   "outputs": [
    {
     "data": {
      "text/plain": [
       "{'Apple': 50, 'Beetroot': 30, 'Carrot': 40}"
      ]
     },
     "execution_count": 119,
     "metadata": {},
     "output_type": "execute_result"
    }
   ],
   "source": [
    "dict1 = {'Apple':10, 'Beetroot':30, 'Carrot':40}\n",
    "\n",
    "dict1 ['Apple']=50\n",
    "\n",
    "dict1"
   ]
  },
  {
   "cell_type": "markdown",
   "id": "eff41e98-6613-4aba-925c-ce08c4bd3029",
   "metadata": {},
   "source": [
    "**methods**"
   ]
  },
  {
   "cell_type": "code",
   "execution_count": 121,
   "id": "c88f60c2-d44b-4c0a-91eb-c17454a4cbf3",
   "metadata": {},
   "outputs": [
    {
     "data": {
      "text/plain": [
       "['__class__',\n",
       " '__class_getitem__',\n",
       " '__contains__',\n",
       " '__delattr__',\n",
       " '__delitem__',\n",
       " '__dir__',\n",
       " '__doc__',\n",
       " '__eq__',\n",
       " '__format__',\n",
       " '__ge__',\n",
       " '__getattribute__',\n",
       " '__getitem__',\n",
       " '__getstate__',\n",
       " '__gt__',\n",
       " '__hash__',\n",
       " '__init__',\n",
       " '__init_subclass__',\n",
       " '__ior__',\n",
       " '__iter__',\n",
       " '__le__',\n",
       " '__len__',\n",
       " '__lt__',\n",
       " '__ne__',\n",
       " '__new__',\n",
       " '__or__',\n",
       " '__reduce__',\n",
       " '__reduce_ex__',\n",
       " '__repr__',\n",
       " '__reversed__',\n",
       " '__ror__',\n",
       " '__setattr__',\n",
       " '__setitem__',\n",
       " '__sizeof__',\n",
       " '__str__',\n",
       " '__subclasshook__',\n",
       " 'clear',\n",
       " 'copy',\n",
       " 'fromkeys',\n",
       " 'get',\n",
       " 'items',\n",
       " 'keys',\n",
       " 'pop',\n",
       " 'popitem',\n",
       " 'setdefault',\n",
       " 'update',\n",
       " 'values']"
      ]
     },
     "execution_count": 121,
     "metadata": {},
     "output_type": "execute_result"
    }
   ],
   "source": [
    "dir(dict)"
   ]
  },
  {
   "cell_type": "markdown",
   "id": "f83eb91a-50ef-4a3d-a2ff-63d56a6314c8",
   "metadata": {},
   "source": [
    "- clear\n",
    "- copy\n",
    "- keys\n",
    "- values\n",
    "- items\n"
   ]
  },
  {
   "cell_type": "code",
   "execution_count": 20,
   "id": "31f77323-3749-4d27-a2d9-5cf590ce568e",
   "metadata": {},
   "outputs": [],
   "source": [
    "## copy\n",
    "\n",
    "dict1 = {'Apple':10, 'Beetroot':30, 'Carrot':40}\n",
    "\n",
    "dict1.clear()\n",
    "\n",
    "##help(dict1.clear)"
   ]
  },
  {
   "cell_type": "code",
   "execution_count": 7,
   "id": "eddc1a97-5f3b-49a7-b7a2-fb10a76d5c33",
   "metadata": {},
   "outputs": [
    {
     "data": {
      "text/plain": [
       "{}"
      ]
     },
     "execution_count": 7,
     "metadata": {},
     "output_type": "execute_result"
    }
   ],
   "source": [
    "dict1"
   ]
  },
  {
   "cell_type": "code",
   "execution_count": 21,
   "id": "80beafa0-5f35-4b6e-a94d-809cd3db24c4",
   "metadata": {},
   "outputs": [],
   "source": [
    "## copy\n",
    "\n",
    "dict1 = {'Apple':10, 'Beetroot':30, 'Carrot':40}\n",
    "\n",
    "dcopy = dict1.copy()\n",
    "\n",
    "##help(dict1.copy)"
   ]
  },
  {
   "cell_type": "code",
   "execution_count": 19,
   "id": "a5ccb037-a13b-4a06-a950-adebb572321f",
   "metadata": {},
   "outputs": [
    {
     "data": {
      "text/plain": [
       "{'Apple': 10, 'Beetroot': 30, 'Carrot': 40}"
      ]
     },
     "execution_count": 19,
     "metadata": {},
     "output_type": "execute_result"
    }
   ],
   "source": [
    "dcopy"
   ]
  },
  {
   "cell_type": "code",
   "execution_count": 25,
   "id": "f2fb2353-c78a-48a8-a243-661415ee1630",
   "metadata": {},
   "outputs": [
    {
     "data": {
      "text/plain": [
       "dict_keys(['Apple', 'Beetroot', 'Carrot'])"
      ]
     },
     "execution_count": 25,
     "metadata": {},
     "output_type": "execute_result"
    }
   ],
   "source": [
    "## keys\n",
    "\n",
    "dict1 = {'Apple':10, 'Beetroot':30, 'Carrot':40}\n",
    "\n",
    "##help(dict1.keys)\n",
    "\n",
    "dict1.keys()"
   ]
  },
  {
   "cell_type": "code",
   "execution_count": 27,
   "id": "1de5b3c2-ac78-4bd7-aada-f8dbca2a6836",
   "metadata": {},
   "outputs": [
    {
     "data": {
      "text/plain": [
       "dict_values([10, 30, 40])"
      ]
     },
     "execution_count": 27,
     "metadata": {},
     "output_type": "execute_result"
    }
   ],
   "source": [
    "## values\n",
    "\n",
    "##help(dict1.values)\n",
    "\n",
    "dict1.values()"
   ]
  },
  {
   "cell_type": "code",
   "execution_count": 30,
   "id": "7a4793d8-9a1b-44d6-9041-983f40fea12a",
   "metadata": {},
   "outputs": [
    {
     "data": {
      "text/plain": [
       "(dict_items([('Apple', 10), ('Beetroot', 30), ('Carrot', 40)]),\n",
       " {'Apple': 10, 'Beetroot': 30, 'Carrot': 40})"
      ]
     },
     "execution_count": 30,
     "metadata": {},
     "output_type": "execute_result"
    }
   ],
   "source": [
    "## items\n",
    "\n",
    "dict1 = {'Apple':10, 'Beetroot':30, 'Carrot':40}\n",
    "\n",
    "## help(dict1.items)\n",
    "\n",
    "dict1.items(),dict1"
   ]
  },
  {
   "cell_type": "code",
   "execution_count": null,
   "id": "4eb2a01c-2963-4d97-b762-86228d7dc05b",
   "metadata": {},
   "outputs": [],
   "source": []
  },
  {
   "cell_type": "markdown",
   "id": "bfc741dd-dcf8-4d34-b587-562e5c79cc04",
   "metadata": {},
   "source": [
    "**Convert dictionary to list**\n",
    "\n",
    "- to convert it we need to separate keys and values\n",
    "- then apply list type casting\n",
    "\n"
   ]
  },
  {
   "cell_type": "code",
   "execution_count": 32,
   "id": "6fd283bc-26be-4860-a4dc-1dd075731e6f",
   "metadata": {},
   "outputs": [
    {
     "data": {
      "text/plain": [
       "['Apple', 'Beetroot', 'Carrot']"
      ]
     },
     "execution_count": 32,
     "metadata": {},
     "output_type": "execute_result"
    }
   ],
   "source": [
    "dict1 = {'Apple':10, 'Beetroot':30, 'Carrot':40}\n",
    "keys=dict1.keys()\n",
    "keys_list=list(keys)\n",
    "keys_list"
   ]
  },
  {
   "cell_type": "markdown",
   "id": "3470ae53-95d7-4378-91a4-7ee7373cd78b",
   "metadata": {},
   "source": [
    "- list to string using join\n",
    "- string to list using split\n",
    "- list to dictionary using zip\n",
    "- dict to list using typecasting"
   ]
  },
  {
   "cell_type": "code",
   "execution_count": 35,
   "id": "179d1c8d-b230-47ec-8716-d34c543213f7",
   "metadata": {},
   "outputs": [
    {
     "data": {
      "text/plain": [
       "[10, 30, 40]"
      ]
     },
     "execution_count": 35,
     "metadata": {},
     "output_type": "execute_result"
    }
   ],
   "source": [
    "dict1 = {'Apple':10, 'Beetroot':30, 'Carrot':40}\n",
    "values=dict1.values()\n",
    "values_list=list(values)\n",
    "values_list"
   ]
  },
  {
   "cell_type": "code",
   "execution_count": 37,
   "id": "8ef1161f-d147-47b9-918b-2a637c83acbf",
   "metadata": {},
   "outputs": [
    {
     "data": {
      "text/plain": [
       "[('Apple', 10), ('Beetroot', 30), ('Carrot', 40)]"
      ]
     },
     "execution_count": 37,
     "metadata": {},
     "output_type": "execute_result"
    }
   ],
   "source": [
    "dict1 = {'Apple':10, 'Beetroot':30, 'Carrot':40}\n",
    "items=dict1.items()\n",
    "items_list=list(items)\n",
    "items_list"
   ]
  },
  {
   "cell_type": "code",
   "execution_count": 39,
   "id": "84aa2ae5-178b-4789-88a1-ce150a193f49",
   "metadata": {},
   "outputs": [
    {
     "data": {
      "text/plain": [
       "(list, dict_keys)"
      ]
     },
     "execution_count": 39,
     "metadata": {},
     "output_type": "execute_result"
    }
   ],
   "source": [
    "type(keys_list),type(keys)"
   ]
  },
  {
   "cell_type": "code",
   "execution_count": 41,
   "id": "13c12b79-0dff-4b18-ab7c-387b9fa2def2",
   "metadata": {},
   "outputs": [
    {
     "data": {
      "text/plain": [
       "1"
      ]
     },
     "execution_count": 41,
     "metadata": {},
     "output_type": "execute_result"
    }
   ],
   "source": [
    "keys_list.count('Apple')"
   ]
  },
  {
   "cell_type": "code",
   "execution_count": 72,
   "id": "cd2d82e3-d022-4b2e-a1c2-3965988a285b",
   "metadata": {},
   "outputs": [
    {
     "data": {
      "text/plain": [
       "{'Firstname': ['virat', 'rohit', 'ms'],\n",
       " 'Secondname': ['kohli', 'sharma', 'dhoni'],\n",
       " 'Companyname': ['rcb', 'rcb', 'csk']}"
      ]
     },
     "execution_count": 72,
     "metadata": {},
     "output_type": "execute_result"
    }
   ],
   "source": [
    "input = 'virat.kohli@rcb.com;rohit.sharma@rcb.com;ms.dhoni@csk.com'\n",
    "## output\n",
    "\n",
    "l1 = input.split(';')\n",
    "fname,sname,cname = [],[],[]\n",
    "d={}\n",
    "for i in l1:\n",
    "    first_dot = i.index('.')\n",
    "    second_dot = i.index('.',first_dot+1)\n",
    "    at_the_rate=i.index('@')\n",
    "    \n",
    "    fname.append(i[:first_dot])\n",
    "    sname.append(i[first_dot+1:at_the_rate])\n",
    "    cname.append(i[at_the_rate+1:second_dot])\n",
    "d['Firstname']=fname\n",
    "d['Secondname']=sname\n",
    "d['Companyname']=cname\n",
    "\n",
    "d"
   ]
  },
  {
   "cell_type": "code",
   "execution_count": 86,
   "id": "2bf33eb1-332d-4b63-936b-705b027fb4ab",
   "metadata": {},
   "outputs": [
    {
     "data": {
      "text/plain": [
       "['__class__',\n",
       " '__class_getitem__',\n",
       " '__contains__',\n",
       " '__delattr__',\n",
       " '__delitem__',\n",
       " '__dir__',\n",
       " '__doc__',\n",
       " '__eq__',\n",
       " '__format__',\n",
       " '__ge__',\n",
       " '__getattribute__',\n",
       " '__getitem__',\n",
       " '__getstate__',\n",
       " '__gt__',\n",
       " '__hash__',\n",
       " '__init__',\n",
       " '__init_subclass__',\n",
       " '__ior__',\n",
       " '__iter__',\n",
       " '__le__',\n",
       " '__len__',\n",
       " '__lt__',\n",
       " '__ne__',\n",
       " '__new__',\n",
       " '__or__',\n",
       " '__reduce__',\n",
       " '__reduce_ex__',\n",
       " '__repr__',\n",
       " '__reversed__',\n",
       " '__ror__',\n",
       " '__setattr__',\n",
       " '__setitem__',\n",
       " '__sizeof__',\n",
       " '__str__',\n",
       " '__subclasshook__',\n",
       " 'clear',\n",
       " 'copy',\n",
       " 'fromkeys',\n",
       " 'get',\n",
       " 'items',\n",
       " 'keys',\n",
       " 'pop',\n",
       " 'popitem',\n",
       " 'setdefault',\n",
       " 'update',\n",
       " 'values']"
      ]
     },
     "execution_count": 86,
     "metadata": {},
     "output_type": "execute_result"
    }
   ],
   "source": [
    "\n",
    "dir(dict)\n"
   ]
  },
  {
   "cell_type": "markdown",
   "id": "a6f24cc6-a6bc-4e1d-b972-bcff59783b27",
   "metadata": {},
   "source": [
    "### pop\n",
    "### popitem"
   ]
  },
  {
   "cell_type": "code",
   "execution_count": 87,
   "id": "1aad6875-96ab-49c4-96d8-0eadb5da17c3",
   "metadata": {},
   "outputs": [
    {
     "data": {
      "text/plain": [
       "10"
      ]
     },
     "execution_count": 87,
     "metadata": {},
     "output_type": "execute_result"
    }
   ],
   "source": [
    "# pop\n",
    "\n",
    "#help(dict.pop)\n",
    "\n",
    "dict1 = {'Apple':10, 'Beetroot':30, 'Carrot':40}\n",
    "dict1.pop('Apple')\n"
   ]
  },
  {
   "cell_type": "code",
   "execution_count": 85,
   "id": "ac711ddf-7bbf-427e-91e4-9a66607ee30e",
   "metadata": {},
   "outputs": [
    {
     "data": {
      "text/plain": [
       "('Watermelon', 90)"
      ]
     },
     "execution_count": 85,
     "metadata": {},
     "output_type": "execute_result"
    }
   ],
   "source": [
    "# popitem\n",
    "\n",
    "#help(dict.popitem)\n",
    "\n",
    "dict1 = {'Apple':10, 'Beetroot':30, 'Carrot':40, 'Watermelon':90}\n",
    "dict1.popitem()\n"
   ]
  },
  {
   "cell_type": "code",
   "execution_count": 84,
   "id": "19f9595d-af30-4700-8dd4-3d87a994cd68",
   "metadata": {},
   "outputs": [
    {
     "name": "stdout",
     "output_type": "stream",
     "text": [
      "Help on method_descriptor:\n",
      "\n",
      "popitem(self, /)\n",
      "    Remove and return a (key, value) pair as a 2-tuple.\n",
      "    \n",
      "    Pairs are returned in LIFO (last-in, first-out) order.\n",
      "    Raises KeyError if the dict is empty.\n",
      "\n"
     ]
    }
   ],
   "source": [
    "help(dict.popitem)\n"
   ]
  },
  {
   "cell_type": "markdown",
   "id": "1b51bd97-e068-490e-baf3-fd3c25fd8acb",
   "metadata": {},
   "source": [
    "**pop** in dictionary same as  **remove** in list\n",
    "\n",
    "**pop item ** in dictionary, same as  **pop** in list\n"
   ]
  },
  {
   "cell_type": "markdown",
   "id": "aa541427-72c7-47b7-b6ad-4b5c69042e47",
   "metadata": {},
   "source": [
    "**get**"
   ]
  },
  {
   "cell_type": "code",
   "execution_count": 93,
   "id": "0fc3b969-a5a3-456e-b2f8-f2436af1bdb8",
   "metadata": {},
   "outputs": [
    {
     "data": {
      "text/plain": [
       "90"
      ]
     },
     "execution_count": 93,
     "metadata": {},
     "output_type": "execute_result"
    }
   ],
   "source": [
    "dict1 = {'Apple':10, 'Beetroot':30, 'Carrot':40, 'Watermelon':90}\n",
    "\n",
    "#help(dict.get)\n",
    "\n",
    "dict1.get('Watermelon')"
   ]
  },
  {
   "cell_type": "code",
   "execution_count": 96,
   "id": "5618a086-59c5-4910-9cd4-3f9f15b7e6a0",
   "metadata": {},
   "outputs": [
    {
     "data": {
      "text/plain": [
       "90"
      ]
     },
     "execution_count": 96,
     "metadata": {},
     "output_type": "execute_result"
    }
   ],
   "source": [
    "dict1['Watermelon'] ## key works as an index as well"
   ]
  },
  {
   "cell_type": "markdown",
   "id": "3c0c674e-4eda-41e1-bb6f-ba5fe348c131",
   "metadata": {},
   "source": [
    "**update**\n",
    "\n",
    "- update is similar to **list extend**\n",
    "- take 2 dictionaries and apply update method"
   ]
  },
  {
   "cell_type": "code",
   "execution_count": 102,
   "id": "4ba551f7-7802-4240-8743-e05d7bd0b26d",
   "metadata": {},
   "outputs": [
    {
     "data": {
      "text/plain": [
       "{'Apple': 10,\n",
       " 'Beetroot': 30,\n",
       " 'Carrot': 40,\n",
       " 'Watermelon': 90,\n",
       " 'Potato': 40,\n",
       " 'Tomato': 15,\n",
       " 'Onion': 38}"
      ]
     },
     "execution_count": 102,
     "metadata": {},
     "output_type": "execute_result"
    }
   ],
   "source": [
    "dict1 = {'Apple':10, 'Beetroot':30, 'Carrot':40, 'Watermelon':90}\n",
    "dict2 = {'Potato':40, 'Tomato':15,'Onion':38}\n",
    "\n",
    "dict1.update(dict2)\n",
    "\n",
    "#help(dict.update)\n",
    "dict1"
   ]
  },
  {
   "cell_type": "code",
   "execution_count": 103,
   "id": "58340daf-2813-4a7c-ab81-cf61060e1ef2",
   "metadata": {},
   "outputs": [
    {
     "data": {
      "text/plain": [
       "['S', 'G', 45, 12, '$', 23, 'I', '(']"
      ]
     },
     "execution_count": 103,
     "metadata": {},
     "output_type": "execute_result"
    }
   ],
   "source": [
    "l1 = ['S','G',45,12]\n",
    "l2 = ['$',23,'I','(']\n",
    "l1.extend(l2)\n",
    "l1"
   ]
  },
  {
   "cell_type": "markdown",
   "id": "7ca79afc-390b-4cbc-8c19-fd5dec80fd82",
   "metadata": {},
   "source": [
    "**setdefault**\n",
    "\n",
    "- suppose already existed dictionary available\n",
    "- we can update the dictionary with new key:value pair\n",
    "- **setdefault** is similar to **list append**\n",
    "- dictionary is key:value concept it never involves index operations\n",
    "- so we use get method to extract values"
   ]
  },
  {
   "cell_type": "code",
   "execution_count": 109,
   "id": "fbaa9bf9-2044-4dfb-943b-e99fb9ad37c5",
   "metadata": {},
   "outputs": [
    {
     "data": {
      "text/plain": [
       "{'Potato': 40, 'Tomato': 15, 'Onion': 38}"
      ]
     },
     "execution_count": 109,
     "metadata": {},
     "output_type": "execute_result"
    }
   ],
   "source": [
    "dict2 = {'Potato':40, 'Tomato':15,'Onion':38}\n",
    "dict2.setdefault('Potato')\n",
    "dict2.setdefault('Potato',45)\n",
    "\n",
    "dict2"
   ]
  },
  {
   "cell_type": "markdown",
   "id": "abb79218-2f92-4436-a035-7123a25ca0d4",
   "metadata": {},
   "source": [
    "**fromkeys**\n",
    "\n",
    "- first create a dictionary with different keys but same value\n",
    "- fromkeys will takean argument **iterable**\n",
    "- try to provide an iterator i.e. string,list,tuple\n",
    "  "
   ]
  },
  {
   "cell_type": "code",
   "execution_count": 113,
   "id": "a7778b6a-70de-4eb7-abc1-5ffd20c89818",
   "metadata": {},
   "outputs": [
    {
     "data": {
      "text/plain": [
       "{'Python': 'course'}"
      ]
     },
     "execution_count": 113,
     "metadata": {},
     "output_type": "execute_result"
    }
   ],
   "source": [
    "dict3 = {}\n",
    "\n",
    "names=['Python']\n",
    "dict3.fromkeys(names,'course')"
   ]
  },
  {
   "cell_type": "code",
   "execution_count": 114,
   "id": "43eaf3c3-67d0-42d1-a14f-ebb79ce02cd1",
   "metadata": {},
   "outputs": [
    {
     "data": {
      "text/plain": [
       "{'P': None, 'y': None, 't': None, 'h': None, 'o': None, 'n': None}"
      ]
     },
     "execution_count": 114,
     "metadata": {},
     "output_type": "execute_result"
    }
   ],
   "source": [
    "dict3.fromkeys('Python')"
   ]
  },
  {
   "cell_type": "markdown",
   "id": "8a4cf956-17af-4921-b47c-0bc0ce03a4ed",
   "metadata": {},
   "source": [
    "- list, string, tuple have **count**\n",
    "- But dictionary does not have **count** because it does not allow **duplicates**\n",
    "- strings have **find** but list does not have **find**"
   ]
  },
  {
   "cell_type": "code",
   "execution_count": null,
   "id": "25aba4c0-ac64-4dea-b505-e17d788832d1",
   "metadata": {},
   "outputs": [],
   "source": []
  }
 ],
 "metadata": {
  "kernelspec": {
   "display_name": "Python 3 (ipykernel)",
   "language": "python",
   "name": "python3"
  },
  "language_info": {
   "codemirror_mode": {
    "name": "ipython",
    "version": 3
   },
   "file_extension": ".py",
   "mimetype": "text/x-python",
   "name": "python",
   "nbconvert_exporter": "python",
   "pygments_lexer": "ipython3",
   "version": "3.11.7"
  }
 },
 "nbformat": 4,
 "nbformat_minor": 5
}
